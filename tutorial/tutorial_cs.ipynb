{
 "cells": [
  {
   "cell_type": "markdown",
   "metadata": {},
   "source": [
    "# Step-by-step verification"
   ]
  },
  {
   "cell_type": "code",
   "execution_count": null,
   "metadata": {},
   "outputs": [],
   "source": [
    "import sys\n",
    "import numpy as np\n",
    "import numpy.linalg as la\n",
    "import scipy\n",
    "sys.path.append('../')"
   ]
  },
  {
   "cell_type": "markdown",
   "metadata": {},
   "source": [
    "### Load a grayscale image\n",
    "\n",
    "We start by reading a grayscale image using `openCV`."
   ]
  },
  {
   "cell_type": "code",
   "execution_count": null,
   "metadata": {},
   "outputs": [],
   "source": [
    "import cv2\n",
    "import matplotlib.pyplot as plt\n",
    "im = cv2.imread('city.png', cv2.IMREAD_GRAYSCALE)/255.0\n",
    "plt.imshow(im, cmap='gray')\n",
    "plt.colorbar()\n",
    "plt.axis('off')\n",
    "print('Image size: ', im.shape)\n",
    "plt.show()"
   ]
  },
  {
   "cell_type": "markdown",
   "metadata": {},
   "source": [
    "### Generating undersampling mask in *k*-space\n",
    "\n",
    "We generate a Bernoulli undersampling mask using the `generateSamplingMask()` function with an undersampling ratio `delta`."
   ]
  },
  {
   "cell_type": "code",
   "execution_count": null,
   "metadata": {},
   "outputs": [],
   "source": [
    "from CSRecoverySuite import generateSamplingMask\n",
    "\n",
    "# Select an undesampling ratio\n",
    "delta = 0.95\n",
    "# Generate an undersampling mask\n",
    "omega = generateSamplingMask(im.shape, delta, 'bernoulli')\n",
    "# Verify the undersampling ratio\n",
    "nsamp = np.sum((omega == 1).ravel())/np.prod(omega.shape)\n",
    "print('Included frequencies: %.1f%%' % (nsamp*100))\n",
    "# Plot mask\n",
    "plt.imshow(omega[0], cmap='binary')\n",
    "plt.axis('off')\n",
    "plt.show()"
   ]
  },
  {
   "cell_type": "markdown",
   "metadata": {},
   "source": [
    "Other choices to generate the mask are:\n",
    "\n",
    "- **bernoulli**, each pixel in the mask is generate according to a Bernoulli random variable with probability *delta*.\n",
    "- **vardentri**, variable density triangular.\n",
    "- **vardengauss**\n",
    "- **vardenexp**\n",
    "- **halton**"
   ]
  },
  {
   "cell_type": "markdown",
   "metadata": {},
   "source": [
    "### Sparsity in the wavelet domain\n",
    "\n",
    "We use `pywavelets` and set the wavelet to `haar` and the padding to `zero`"
   ]
  },
  {
   "cell_type": "code",
   "execution_count": null,
   "metadata": {},
   "outputs": [],
   "source": [
    "waveName = 'db8'\n",
    "waveMode = 'zero'"
   ]
  },
  {
   "cell_type": "markdown",
   "metadata": {},
   "source": [
    "and compute the 2D Haar wavelet transform using"
   ]
  },
  {
   "cell_type": "code",
   "execution_count": null,
   "metadata": {},
   "outputs": [],
   "source": [
    "import pywt\n",
    "wim = pywt.coeffs_to_array(pywt.wavedec2(im, wavelet=waveName, mode=waveMode))[0]\n",
    "plt.figure(figsize=(8,8))\n",
    "plt.imshow(np.log(np.abs(wim)+1.0e-5), cmap='gray')\n",
    "plt.axis('off')\n",
    "plt.show()"
   ]
  },
  {
   "cell_type": "markdown",
   "metadata": {},
   "source": [
    "#### Constructing the wavelet-Fourier operator\n",
    "\n",
    "We now define the operator that maps the wavelet coefficients of an image to the undersampled Fourier coefficients of the image."
   ]
  },
  {
   "cell_type": "code",
   "execution_count": null,
   "metadata": {},
   "outputs": [],
   "source": [
    "from maps import OperatorWaveletToFourier\n",
    "\n",
    "# Assemble operator\n",
    "A = OperatorWaveletToFourier(im.shape, samplingSet=omega[0], waveletName=waveName)\n",
    "# Undersampled measurements\n",
    "yim = A.eval(wim, 1)\n",
    "\n",
    "print('Input shape: ', A.inShape)\n",
    "print('Output shape: ', A.outShape)\n",
    "print('Matrix shape: ', A.shape)"
   ]
  },
  {
   "cell_type": "markdown",
   "metadata": {},
   "source": [
    "### Reconstruction from noiseless data\n",
    "\n",
    "We now define the operator that maps the wavelet coefficients of an image to the undersampled Fourier coefficients of the image. **Warning:** This step can take about 4min."
   ]
  },
  {
   "cell_type": "code",
   "execution_count": null,
   "metadata": {},
   "outputs": [],
   "source": [
    "from solver_l1_norm import RecoveryL1NormNoisy\n",
    "\n",
    "# Recovery - for low values of eta it is better to use SoS-L1Ball\n",
    "wimrec_cpx, _ = RecoveryL1NormNoisy(0.01, yim, A, disp=True, method='SoS-L1Ball')\n",
    "# The recovered coefficients could be complex!\n",
    "imrec_cpx = A.getImageFromWavelet(wimrec_cpx)\n",
    "imrec = np.abs(imrec_cpx)\n",
    "# Compare true vs reconstructed image\n",
    "print('Reconstruction error')\n",
    "print('   Absolute ', la.norm((im - imrec_cpx).ravel()))\n",
    "print('   Relative ', la.norm((im - imrec_cpx).ravel())/la.norm(im.ravel()))\n",
    "\n",
    "plt.imshow(im, cmap='gray')\n",
    "plt.colorbar()\n",
    "plt.title('true')\n",
    "plt.axis('off')\n",
    "plt.show()\n",
    "plt.imshow(imrec, cmap='gray')\n",
    "plt.colorbar()\n",
    "plt.title('recovered')\n",
    "plt.axis('off')\n",
    "plt.show()"
   ]
  },
  {
   "cell_type": "markdown",
   "metadata": {},
   "source": [
    "### Noise\n",
    "\n",
    "The measurements are usually corrupted by noise. In this case, we model it as additive Gaussian noise with variance ``sigma^2``. Usually the noise variance is determined by the **Signal-to-Noise Ratio (SNR)**. \n"
   ]
  },
  {
   "cell_type": "code",
   "execution_count": null,
   "metadata": {},
   "outputs": [],
   "source": [
    "# Target SNR\n",
    "SNR = 50\n",
    "# Signal power. The factor 2 accounts for real/imaginary parts\n",
    "yim_pow = la.norm(yim.ravel()) ** 2 / (2 * yim.size)\n",
    "# Noise st. dev.\n",
    "sigma = np.sqrt(yim_pow / SNR)\n",
    "# Noisy measurements\n",
    "y = yim + sigma * (np.random.normal(size=yim.shape) + 1j * np.random.normal(size=yim.shape))\n",
    "z_pow = la.norm((y - yim).ravel()) ** 2 / (2 * yim.size)\n",
    "print('Number of complex measurements: ', yim.size)\n",
    "print('Signal power: ', yim_pow)\n",
    "print('Noise power:  ', z_pow)\n",
    "print('SNR:          ', yim_pow/z_pow)\n",
    "\n",
    "_ = plt.hist(np.abs((y - yim).ravel()) ** 2, bins='auto') \n",
    "plt.title(\"Squared deviations\")\n",
    "plt.show()\n"
   ]
  },
  {
   "cell_type": "markdown",
   "metadata": {},
   "source": [
    "### Noisy recovery\n",
    "\n",
    "In this case we reconstruct the signal from noisy data. We use as parameter ``eta`` a factor ``sqrt(2 * m)``  times ``sigma``. **Warning:** This can take about 4min.\n"
   ]
  },
  {
   "cell_type": "code",
   "execution_count": null,
   "metadata": {},
   "outputs": [],
   "source": [
    "# Parameter eta\n",
    "eta = np.sqrt(2 * y.size) * sigma\n",
    "# Recovery\n",
    "wimrec_noisy_cpx, _ = RecoveryL1NormNoisy(eta, y, A, disp=True, disp_method=False, method='BPDN')\n",
    "# The recovered coefficients could be complex!\n",
    "imrec_noisy_cpx = A.getImageFromWavelet(wimrec_noisy_cpx)\n",
    "imrec_noisy = np.abs(imrec_noisy_cpx)\n",
    "# Compare true vs reconstructed image\n",
    "print('Reconstruction error')\n",
    "print('   Absolute ', la.norm((im - imrec_noisy_cpx).ravel()))\n",
    "print('   Relative ', la.norm((im - imrec_noisy_cpx).ravel())/la.norm(im.ravel()))\n",
    "plt.imshow(im, cmap='gray')\n",
    "plt.colorbar()\n",
    "plt.title('true')\n",
    "plt.axis('off')\n",
    "plt.show()\n",
    "plt.imshow(imrec, cmap='gray')\n",
    "plt.colorbar()\n",
    "plt.title('noiseless recovery')\n",
    "plt.axis('off')\n",
    "plt.show()\n",
    "plt.imshow(imrec_noisy, cmap='gray')\n",
    "plt.colorbar()\n",
    "plt.title('noisy recovery')\n",
    "plt.axis('off')\n",
    "plt.show()"
   ]
  },
  {
   "cell_type": "markdown",
   "metadata": {},
   "source": [
    "### Debiasing\n",
    "\n",
    "The reconstructed wavelet coefficients usually underestimate the true wavelet coefficients. To compensate for this effect, we debias the estimate. To do this, we restrict the operator to the support of the solution obtained for the noisy recovery.\n"
   ]
  },
  {
   "cell_type": "code",
   "execution_count": null,
   "metadata": {},
   "outputs": [],
   "source": [
    "from maps import OperatorWaveletToFourier\n",
    "from solver_l1_norm import MinimizeSumOfSquares\n",
    "from solver_omp import lsQR\n",
    "\n",
    "useLSQR = True\n",
    "\n",
    "# Support of noisy solution\n",
    "wim_supp = np.where(np.abs(wimrec_noisy_cpx) > 1E-4 * la.norm(wimrec_noisy_cpx.ravel(), np.inf), True, False)\n",
    "# Restriction of the operator\n",
    "Adeb = A.colRestrict(wim_supp)\n",
    "# Solve least-squares problem\n",
    "if(useLSQR):\n",
    "    lsqr = lsQR(Adeb)  \n",
    "    lsqr.solve(y[Adeb.samplingSet])\n",
    "    wimrec_noisy_cpx_deb = np.zeros(Adeb.wavShape,dtype=np.complex)\n",
    "    wimrec_noisy_cpx_deb[Adeb.basisSet] = lsqr.x[:]\n",
    "else:\n",
    "    wimrec_noisy_cpx_deb, _ = MinimizeSumOfSquares(y, Adeb, disp=True, printEvery=100)\n",
    "# The recovered coefficients could be complex!\n",
    "imrec_noisy_cpx_deb = Adeb.getImageFromWavelet(wimrec_noisy_cpx_deb)\n",
    "imrec_noisy_deb = np.abs(imrec_noisy_cpx_deb)\n",
    "# Compare true vs reconstructed image\n",
    "print('Reconstruction error - no debiasing')\n",
    "print('   Absolute ', la.norm((im - imrec_noisy_cpx).ravel()))\n",
    "print('   Relative ', la.norm((im - imrec_noisy_cpx).ravel())/la.norm(im.ravel()))\n",
    "print('Reconstruction error - debiasing')\n",
    "print('   Absolute ', la.norm((im - imrec_noisy_cpx_deb).ravel()))\n",
    "print('   Relative ', la.norm((im - imrec_noisy_cpx_deb).ravel())/la.norm(im.ravel()))\n",
    "plt.imshow(im, cmap='gray')\n",
    "plt.title('true')\n",
    "plt.axis('off')\n",
    "plt.colorbar()\n",
    "plt.show()\n",
    "plt.imshow(imrec, cmap='gray')\n",
    "plt.title('noiseless recovery')\n",
    "plt.axis('off')\n",
    "plt.colorbar()\n",
    "plt.show()\n",
    "plt.imshow(imrec_noisy, cmap='gray')\n",
    "plt.title('noisy recovery')\n",
    "plt.axis('off')\n",
    "plt.colorbar()\n",
    "plt.show()\n",
    "plt.imshow(imrec_noisy_deb, cmap='gray')\n",
    "plt.title('noisy recovery - debiased')\n",
    "plt.axis('off')\n",
    "plt.colorbar()\n",
    "plt.show()"
   ]
  },
  {
   "cell_type": "markdown",
   "metadata": {},
   "source": [
    "### Stagewise Orthogonal Matching Pursuit"
   ]
  },
  {
   "cell_type": "code",
   "execution_count": null,
   "metadata": {},
   "outputs": [],
   "source": [
    "from solver_omp import lsQR,OMPRecovery\n",
    "# Recovery\n",
    "wimrec_noisy_cpx, _ = OMPRecovery(A, y)\n",
    "# The recovered coefficients could be complex!\n",
    "imrec_noisy_cpx = A.getImageFromWavelet(wimrec_noisy_cpx)\n",
    "imrec_noisy = np.abs(imrec_noisy_cpx)\n",
    "# Compare true vs reconstructed image\n",
    "print('OMP Reconstruction error')\n",
    "print('   Absolute ', la.norm((im - imrec_noisy_cpx).ravel()))\n",
    "print('   Relative ', la.norm((im - imrec_noisy_cpx).ravel())/la.norm(im.ravel()))\n",
    "plt.imshow(im, cmap='gray')\n",
    "plt.title('true')\n",
    "plt.axis('off')\n",
    "plt.colorbar()\n",
    "plt.show()\n",
    "plt.imshow(imrec, cmap='gray')\n",
    "plt.title('noiseless recovery')\n",
    "plt.axis('off')\n",
    "plt.colorbar()\n",
    "plt.show()\n",
    "plt.imshow(imrec_noisy, cmap='gray')\n",
    "plt.title('noisy recovery - STOMP')\n",
    "plt.axis('off')\n",
    "plt.colorbar()\n",
    "plt.show()"
   ]
  },
  {
   "cell_type": "code",
   "execution_count": null,
   "metadata": {},
   "outputs": [],
   "source": []
  }
 ],
 "metadata": {
  "kernelspec": {
   "display_name": "Python 3 (ipykernel)",
   "language": "python",
   "name": "python3"
  },
  "language_info": {
   "codemirror_mode": {
    "name": "ipython",
    "version": 3
   },
   "file_extension": ".py",
   "mimetype": "text/x-python",
   "name": "python",
   "nbconvert_exporter": "python",
   "pygments_lexer": "ipython3",
   "version": "3.8.10"
  }
 },
 "nbformat": 4,
 "nbformat_minor": 2
}
